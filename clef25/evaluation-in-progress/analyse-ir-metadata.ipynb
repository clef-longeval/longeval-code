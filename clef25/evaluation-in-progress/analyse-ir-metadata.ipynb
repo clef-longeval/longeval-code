{
 "cells": [
  {
   "cell_type": "code",
   "execution_count": 50,
   "id": "c6426ed7",
   "metadata": {},
   "outputs": [
    {
     "data": {
      "text/html": [
       "<div>\n",
       "<style scoped>\n",
       "    .dataframe tbody tr th:only-of-type {\n",
       "        vertical-align: middle;\n",
       "    }\n",
       "\n",
       "    .dataframe tbody tr th {\n",
       "        vertical-align: top;\n",
       "    }\n",
       "\n",
       "    .dataframe thead th {\n",
       "        text-align: right;\n",
       "    }\n",
       "</style>\n",
       "<table border=\"1\" class=\"dataframe\">\n",
       "  <thead>\n",
       "    <tr style=\"text-align: right;\">\n",
       "      <th></th>\n",
       "      <th>team</th>\n",
       "      <th>submission</th>\n",
       "      <th>libs</th>\n",
       "      <th>runtime</th>\n",
       "      <th>repo</th>\n",
       "      <th>lexical</th>\n",
       "      <th>deep_neural_model</th>\n",
       "      <th>sparse_neural_model</th>\n",
       "      <th>dense_neural_model</th>\n",
       "      <th>single_stage_retrieval</th>\n",
       "      <th>repo_is_public</th>\n",
       "    </tr>\n",
       "  </thead>\n",
       "  <tbody>\n",
       "    <tr>\n",
       "      <th>0</th>\n",
       "      <td>clef25-long-eval-sci-group-5</td>\n",
       "      <td>SciBERT_LongEVAL</td>\n",
       "      <td>[faiss, numpy, pytorch, python, transformers]</td>\n",
       "      <td>[]</td>\n",
       "      <td>https://github.com/Whiax/AIR-TouchStone</td>\n",
       "      <td>0.0</td>\n",
       "      <td>1.0</td>\n",
       "      <td>0.0</td>\n",
       "      <td>1.0</td>\n",
       "      <td>1.0</td>\n",
       "      <td>False</td>\n",
       "    </tr>\n",
       "    <tr>\n",
       "      <th>1</th>\n",
       "      <td>clef25-long-eval-sci-group-5</td>\n",
       "      <td>SciBERT_LongEVAL</td>\n",
       "      <td>[faiss, numpy, pytorch, python, transformers]</td>\n",
       "      <td>[]</td>\n",
       "      <td>https://github.com/Whiax/AIR-TouchStone</td>\n",
       "      <td>0.0</td>\n",
       "      <td>1.0</td>\n",
       "      <td>0.0</td>\n",
       "      <td>1.0</td>\n",
       "      <td>1.0</td>\n",
       "      <td>False</td>\n",
       "    </tr>\n",
       "    <tr>\n",
       "      <th>2</th>\n",
       "      <td>clef25-sambs</td>\n",
       "      <td>C3-CE-L12-TestAbs</td>\n",
       "      <td>[Python]</td>\n",
       "      <td>[]</td>\n",
       "      <td>https://github.com/santiago-ruiz-moreno/Scient...</td>\n",
       "      <td>1.0</td>\n",
       "      <td>1.0</td>\n",
       "      <td>0.0</td>\n",
       "      <td>1.0</td>\n",
       "      <td>0.0</td>\n",
       "      <td>False</td>\n",
       "    </tr>\n",
       "  </tbody>\n",
       "</table>\n",
       "</div>"
      ],
      "text/plain": [
       "                           team         submission  \\\n",
       "0  clef25-long-eval-sci-group-5   SciBERT_LongEVAL   \n",
       "1  clef25-long-eval-sci-group-5   SciBERT_LongEVAL   \n",
       "2                  clef25-sambs  C3-CE-L12-TestAbs   \n",
       "\n",
       "                                            libs runtime  \\\n",
       "0  [faiss, numpy, pytorch, python, transformers]      []   \n",
       "1  [faiss, numpy, pytorch, python, transformers]      []   \n",
       "2                                       [Python]      []   \n",
       "\n",
       "                                                repo  lexical  \\\n",
       "0            https://github.com/Whiax/AIR-TouchStone      0.0   \n",
       "1            https://github.com/Whiax/AIR-TouchStone      0.0   \n",
       "2  https://github.com/santiago-ruiz-moreno/Scient...      1.0   \n",
       "\n",
       "   deep_neural_model  sparse_neural_model  dense_neural_model  \\\n",
       "0                1.0                  0.0                 1.0   \n",
       "1                1.0                  0.0                 1.0   \n",
       "2                1.0                  0.0                 1.0   \n",
       "\n",
       "   single_stage_retrieval  repo_is_public  \n",
       "0                     1.0           False  \n",
       "1                     1.0           False  \n",
       "2                     0.0           False  "
      ]
     },
     "execution_count": 50,
     "metadata": {},
     "output_type": "execute_result"
    }
   ],
   "source": [
    "import pandas as pd\n",
    "\n",
    "df = pd.read_json(\"foo.jsonl.gz\", lines=True)\n",
    "df.head(3)"
   ]
  },
  {
   "cell_type": "code",
   "execution_count": 51,
   "id": "4949c07f",
   "metadata": {},
   "outputs": [
    {
     "data": {
      "text/plain": [
       "23"
      ]
     },
     "execution_count": 51,
     "metadata": {},
     "output_type": "execute_result"
    }
   ],
   "source": [
    "# Number of teams\n",
    "\n",
    "len(df[\"team\"].unique())"
   ]
  },
  {
   "cell_type": "code",
   "execution_count": 60,
   "id": "0817bb90",
   "metadata": {},
   "outputs": [
    {
     "data": {
      "text/plain": [
       "70"
      ]
     },
     "execution_count": 60,
     "metadata": {},
     "output_type": "execute_result"
    }
   ],
   "source": [
    "# Number of submissions\n",
    "\n",
    "len(df[\"submission\"].unique())"
   ]
  },
  {
   "cell_type": "code",
   "execution_count": 52,
   "id": "d566b2c6",
   "metadata": {},
   "outputs": [
    {
     "data": {
      "text/plain": [
       "14"
      ]
     },
     "execution_count": 52,
     "metadata": {},
     "output_type": "execute_result"
    }
   ],
   "source": [
    "# Teams with a repo on github:\n",
    "\n",
    "len(df[df[\"repo\"].str.contains(\"github\")][\"team\"].unique())"
   ]
  },
  {
   "cell_type": "code",
   "execution_count": 53,
   "id": "b97f381c",
   "metadata": {},
   "outputs": [
    {
     "data": {
      "text/plain": [
       "8"
      ]
     },
     "execution_count": 53,
     "metadata": {},
     "output_type": "execute_result"
    }
   ],
   "source": [
    "# Teams with a repo on bitbucket:\n",
    "\n",
    "len(df[df[\"repo\"].str.contains(\"bitbucket\")][\"team\"].unique())"
   ]
  },
  {
   "cell_type": "code",
   "execution_count": 54,
   "id": "74cd747e",
   "metadata": {},
   "outputs": [
    {
     "data": {
      "text/plain": [
       "7"
      ]
     },
     "execution_count": 54,
     "metadata": {},
     "output_type": "execute_result"
    }
   ],
   "source": [
    "# Teams with public repo:\n",
    "\n",
    "len(df[df[\"repo_is_public\"]][\"team\"].unique())"
   ]
  },
  {
   "cell_type": "code",
   "execution_count": 57,
   "id": "860e974c",
   "metadata": {},
   "outputs": [
    {
     "data": {
      "text/plain": [
       "2"
      ]
     },
     "execution_count": 57,
     "metadata": {},
     "output_type": "execute_result"
    }
   ],
   "source": [
    "# Teams that tracked respource consumptoin:\n",
    "\n",
    "len(df[df[\"runtime\"].astype(bool)][\"team\"].unique())"
   ]
  },
  {
   "cell_type": "code",
   "execution_count": null,
   "id": "7b15264b",
   "metadata": {},
   "outputs": [
    {
     "data": {
      "text/plain": [
       "15"
      ]
     },
     "execution_count": 59,
     "metadata": {},
     "output_type": "execute_result"
    }
   ],
   "source": [
    "# Runs that tracked respource consumption:\n",
    "\n",
    "len(df[df[\"runtime\"].astype(bool)][\"submission\"].unique())"
   ]
  },
  {
   "cell_type": "code",
   "execution_count": 74,
   "id": "4cb7f099",
   "metadata": {},
   "outputs": [],
   "source": [
    "team_to_libs = {}\n",
    "\n",
    "lib_to_name = {\"PyTerrier\": \"python-terrier\", \"pytorch\": \"torch\", \"sqlalchemy\": \"SQLAlchemy\", \"org.apache.lucene\": \"Lucene\"}\n",
    "\n",
    "\n",
    "for _, i in df.iterrows():\n",
    "    if i[\"team\"] not in team_to_libs:\n",
    "        team_to_libs[i[\"team\"]] = set()\n",
    "\n",
    "    for lib in i[\"libs\"]:\n",
    "        team_to_libs[i[\"team\"]].add(lib_to_name.get(lib, lib))\n",
    "\n",
    "lib_counts = []\n",
    "\n",
    "NON_LIBS = set([\"Apache\", \"Python\", \"Java\", \"os\"])\n",
    "\n",
    "for v in team_to_libs.values():\n",
    "    for k in v:\n",
    "        if k in NON_LIBS:\n",
    "            continue\n",
    "        lib_counts.append({\"lib\": k})\n",
    "\n",
    "lib_counts = pd.DataFrame(lib_counts)"
   ]
  },
  {
   "cell_type": "code",
   "execution_count": 75,
   "id": "043c2220",
   "metadata": {},
   "outputs": [
    {
     "data": {
      "text/plain": [
       "lib                 \n",
       "python-terrier          7\n",
       "numpy                   4\n",
       "SQLAlchemy              4\n",
       "scikit-learn            4\n",
       "pandas                  4\n",
       "transformers            3\n",
       "torch                   3\n",
       "ir-datasets-longeval    3\n",
       "Lucene                  3\n",
       "yaml                    2\n",
       "Name: count, dtype: int64"
      ]
     },
     "execution_count": 75,
     "metadata": {},
     "output_type": "execute_result"
    }
   ],
   "source": [
    "lib_counts.value_counts().head(10)"
   ]
  },
  {
   "cell_type": "code",
   "execution_count": 104,
   "id": "ff11f9fc",
   "metadata": {},
   "outputs": [
    {
     "data": {
      "text/html": [
       "<div>\n",
       "<style scoped>\n",
       "    .dataframe tbody tr th:only-of-type {\n",
       "        vertical-align: middle;\n",
       "    }\n",
       "\n",
       "    .dataframe tbody tr th {\n",
       "        vertical-align: top;\n",
       "    }\n",
       "\n",
       "    .dataframe thead th {\n",
       "        text-align: right;\n",
       "    }\n",
       "</style>\n",
       "<table border=\"1\" class=\"dataframe\">\n",
       "  <thead>\n",
       "    <tr style=\"text-align: right;\">\n",
       "      <th></th>\n",
       "      <th>Paradigm</th>\n",
       "      <th>Runs</th>\n",
       "      <th>Used?</th>\n",
       "    </tr>\n",
       "  </thead>\n",
       "  <tbody>\n",
       "    <tr>\n",
       "      <th>0</th>\n",
       "      <td>Lexical</td>\n",
       "      <td>84</td>\n",
       "      <td>Yes</td>\n",
       "    </tr>\n",
       "    <tr>\n",
       "      <th>1</th>\n",
       "      <td>Lexical</td>\n",
       "      <td>23</td>\n",
       "      <td>No</td>\n",
       "    </tr>\n",
       "    <tr>\n",
       "      <th>2</th>\n",
       "      <td>Deep Neural</td>\n",
       "      <td>60</td>\n",
       "      <td>Yes</td>\n",
       "    </tr>\n",
       "    <tr>\n",
       "      <th>3</th>\n",
       "      <td>Deep Neural</td>\n",
       "      <td>47</td>\n",
       "      <td>No</td>\n",
       "    </tr>\n",
       "    <tr>\n",
       "      <th>4</th>\n",
       "      <td>Sparse</td>\n",
       "      <td>5</td>\n",
       "      <td>Yes</td>\n",
       "    </tr>\n",
       "    <tr>\n",
       "      <th>5</th>\n",
       "      <td>Sparse</td>\n",
       "      <td>102</td>\n",
       "      <td>No</td>\n",
       "    </tr>\n",
       "    <tr>\n",
       "      <th>6</th>\n",
       "      <td>Dense Neural</td>\n",
       "      <td>59</td>\n",
       "      <td>Yes</td>\n",
       "    </tr>\n",
       "    <tr>\n",
       "      <th>7</th>\n",
       "      <td>Dense Neural</td>\n",
       "      <td>48</td>\n",
       "      <td>No</td>\n",
       "    </tr>\n",
       "    <tr>\n",
       "      <th>8</th>\n",
       "      <td>Single Stage</td>\n",
       "      <td>67</td>\n",
       "      <td>Yes</td>\n",
       "    </tr>\n",
       "    <tr>\n",
       "      <th>9</th>\n",
       "      <td>Single Stage</td>\n",
       "      <td>40</td>\n",
       "      <td>No</td>\n",
       "    </tr>\n",
       "  </tbody>\n",
       "</table>\n",
       "</div>"
      ],
      "text/plain": [
       "       Paradigm  Runs Used?\n",
       "0       Lexical    84   Yes\n",
       "1       Lexical    23    No\n",
       "2   Deep Neural    60   Yes\n",
       "3   Deep Neural    47    No\n",
       "4        Sparse     5   Yes\n",
       "5        Sparse   102    No\n",
       "6  Dense Neural    59   Yes\n",
       "7  Dense Neural    48    No\n",
       "8  Single Stage    67   Yes\n",
       "9  Single Stage    40    No"
      ]
     },
     "execution_count": 104,
     "metadata": {},
     "output_type": "execute_result"
    }
   ],
   "source": [
    "paradigms = []\n",
    "for i, v in [(\"lexical\", \"Lexical\"), (\"deep_neural_model\", \"Deep Neural\"), (\"sparse_neural_model\", \"Sparse\"), (\"dense_neural_model\", \"Dense Neural\"), (\"single_stage_retrieval\", \"Single Stage\")]:\n",
    "    paradigms.append({\"Paradigm\": v, \"Runs\": len([j for j in df[i] if j]) , \"Used?\": \"Yes\"})\n",
    "    paradigms.append({\"Paradigm\": v, \"Runs\": len([j for j in df[i] if not j]) , \"Used?\": \"No\"})\n",
    "paradigms = pd.DataFrame(paradigms)\n",
    "paradigms"
   ]
  },
  {
   "cell_type": "code",
   "execution_count": 105,
   "id": "5f97d8e1",
   "metadata": {},
   "outputs": [
    {
     "data": {
      "text/plain": [
       "<Axes: xlabel='Paradigm', ylabel='Runs'>"
      ]
     },
     "execution_count": 105,
     "metadata": {},
     "output_type": "execute_result"
    },
    {
     "data": {
      "image/png": "[encoded data removed]",
      "text/plain": [
       "<Figure size 640x480 with 1 Axes>"
      ]
     },
     "metadata": {},
     "output_type": "display_data"
    }
   ],
   "source": [
    "import seaborn as sns\n",
    "\n",
    "sns.barplot(paradigms, x=\"Paradigm\", y=\"Runs\", hue=\"Used?\")"
   ]
  }
 ],
 "metadata": {
  "kernelspec": {
   "display_name": "Python 3",
   "language": "python",
   "name": "python3"
  },
  "language_info": {
   "codemirror_mode": {
    "name": "ipython",
    "version": 3
   },
   "file_extension": ".py",
   "mimetype": "text/x-python",
   "name": "python",
   "nbconvert_exporter": "python",
   "pygments_lexer": "ipython3",
   "version": "3.13.3"
  }
 },
 "nbformat": 4,
 "nbformat_minor": 5
}
