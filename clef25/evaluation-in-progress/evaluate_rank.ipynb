{
 "cells": [
  {
   "cell_type": "code",
   "execution_count": 22,
   "id": "067bfe70",
   "metadata": {},
   "outputs": [],
   "source": [
    "import pandas as pd\n",
    "from scipy.stats import kendalltau, pearsonr\n",
    "import numpy as np"
   ]
  },
  {
   "cell_type": "code",
   "execution_count": 36,
   "id": "b87cdf7e",
   "metadata": {},
   "outputs": [],
   "source": [
    "def pairwise_comparison(df, measure, snapshots):\n",
    "    r, r_p = pearsonr(df[(measure, snapshots[0])], df[(measure, snapshots[1])])\n",
    "    print(f\"Pearson’s r = {r:.3f}, p-value = {r_p:.3g}\")\n",
    "    \n",
    "    df[f\"rank_{snapshots[0]}\"] = df[(measure, snapshots[0])].rank(ascending=False, method=\"average\")\n",
    "    df[f\"rank_{snapshots[1]}\"] = df[(measure, snapshots[1])].rank(ascending=False, method=\"average\")\n",
    "    \n",
    "    tau, tau_p = kendalltau(df[f\"rank_{snapshots[0]}\"], df[f\"rank_{snapshots[1]}\"])\n",
    "    print(f\"Kendall’s tau = {tau:.3f}, p-value = {tau_p:.3g}\")"
   ]
  },
  {
   "cell_type": "code",
   "execution_count": 38,
   "id": "db9ad622",
   "metadata": {},
   "outputs": [
    {
     "name": "stdout",
     "output_type": "stream",
     "text": [
      "Pearson’s r = 0.708, p-value = 0.000474\n",
      "Kendall’s tau = 0.500, p-value = 0.00244\n"
     ]
    }
   ],
   "source": [
    "df = pd.read_csv(\"summary-table-sci.csv\", header=[0, 1])\n",
    "# remove systems with score 0\n",
    "df = df.replace(0, np.nan)\n",
    "df = df.dropna()\n",
    "pairwise_comparison(df, \"nDCG@10\", [\"2024-11\", \"2025-01\"])"
   ]
  },
  {
   "cell_type": "code",
   "execution_count": 44,
   "id": "3249eb43",
   "metadata": {},
   "outputs": [
    {
     "name": "stdout",
     "output_type": "stream",
     "text": [
      "Pearson’s r = 0.954, p-value = 1.91e-22\n",
      "Kendall’s tau = 0.930, p-value = 6e-18\n"
     ]
    }
   ],
   "source": [
    "df = pd.read_csv(\"summary-table-web.csv\", header=[0, 1])\n",
    "# remove systems with score 0\n",
    "df = df.replace(0, np.nan)\n",
    "df = df.dropna()\n",
    "pairwise_comparison(df, \"nDCG@10\", [\"2023-03\", \"2023-05\"])"
   ]
  },
  {
   "cell_type": "code",
   "execution_count": 45,
   "id": "a245e15e",
   "metadata": {},
   "outputs": [
    {
     "name": "stdout",
     "output_type": "stream",
     "text": [
      "Pearson’s r = 0.965, p-value = 8.58e-25\n",
      "Kendall’s tau = 0.893, p-value = 1.28e-16\n"
     ]
    }
   ],
   "source": [
    "df = pd.read_csv(\"summary-table-web.csv\", header=[0, 1])\n",
    "# remove systems with score 0\n",
    "df = df.replace(0, np.nan)\n",
    "df = df.dropna()\n",
    "pairwise_comparison(df, \"nDCG@10\", [\"2023-03\", \"2023-08\"])"
   ]
  },
  {
   "cell_type": "code",
   "execution_count": null,
   "id": "b2475907",
   "metadata": {},
   "outputs": [],
   "source": []
  }
 ],
 "metadata": {
  "kernelspec": {
   "display_name": "venv",
   "language": "python",
   "name": "python3"
  },
  "language_info": {
   "codemirror_mode": {
    "name": "ipython",
    "version": 3
   },
   "file_extension": ".py",
   "mimetype": "text/x-python",
   "name": "python",
   "nbconvert_exporter": "python",
   "pygments_lexer": "ipython3",
   "version": "3.10.0"
  }
 },
 "nbformat": 4,
 "nbformat_minor": 5
}
