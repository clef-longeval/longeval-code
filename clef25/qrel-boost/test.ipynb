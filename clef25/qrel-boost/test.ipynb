{
 "cells": [
  {
   "cell_type": "code",
   "execution_count": 1,
   "id": "358ed5a5",
   "metadata": {},
   "outputs": [],
   "source": [
    "from ir_datasets_longeval import load"
   ]
  },
  {
   "cell_type": "code",
   "execution_count": 2,
   "id": "4f2dc1c3",
   "metadata": {},
   "outputs": [],
   "source": [
    "dataset = \"longeval-sci/spot-check/*\""
   ]
  },
  {
   "cell_type": "code",
   "execution_count": 3,
   "id": "f5f36404",
   "metadata": {},
   "outputs": [],
   "source": [
    "ir_dataset = load(dataset)"
   ]
  },
  {
   "cell_type": "code",
   "execution_count": 18,
   "id": "0bb772d8",
   "metadata": {},
   "outputs": [
    {
     "name": "stdout",
     "output_type": "stream",
     "text": [
      "read lag from metadata\n",
      "read lag from metadata\n"
     ]
    },
    {
     "ename": "AttributeError",
     "evalue": "'ExtractedPath' object has no attribute 'path'",
     "output_type": "error",
     "traceback": [
      "\u001b[0;31m---------------------------------------------------------------------------\u001b[0m",
      "\u001b[0;31mAttributeError\u001b[0m                            Traceback (most recent call last)",
      "Cell \u001b[0;32mIn[18], line 1\u001b[0m\n\u001b[0;32m----> 1\u001b[0m \u001b[43mir_dataset\u001b[49m\u001b[38;5;241;43m.\u001b[39;49m\u001b[43mget_lags\u001b[49m\u001b[43m(\u001b[49m\u001b[43m)\u001b[49m\u001b[43m[\u001b[49m\u001b[38;5;241;43m1\u001b[39;49m\u001b[43m]\u001b[49m\u001b[38;5;241;43m.\u001b[39;49m\u001b[43mget_past_datasets\u001b[49m\u001b[43m(\u001b[49m\u001b[43m)\u001b[49m\u001b[43m[\u001b[49m\u001b[38;5;241;43m0\u001b[39;49m\u001b[43m]\u001b[49m\u001b[38;5;241;43m.\u001b[39;49m\u001b[43mqrels_path\u001b[49m\u001b[43m(\u001b[49m\u001b[43m)\u001b[49m\n",
      "File \u001b[0;32m/usr/local/lib/python3.10/dist-packages/ir_datasets/formats/trec.py:426\u001b[0m, in \u001b[0;36mTrecQrels.qrels_path\u001b[0;34m(self)\u001b[0m\n\u001b[1;32m    425\u001b[0m \u001b[38;5;28;01mdef\u001b[39;00m\u001b[38;5;250m \u001b[39m\u001b[38;5;21mqrels_path\u001b[39m(\u001b[38;5;28mself\u001b[39m):\n\u001b[0;32m--> 426\u001b[0m     \u001b[38;5;28;01mreturn\u001b[39;00m \u001b[38;5;28;43mself\u001b[39;49m\u001b[38;5;241;43m.\u001b[39;49m\u001b[43m_qrels_dlc\u001b[49m\u001b[38;5;241;43m.\u001b[39;49m\u001b[43mpath\u001b[49m()\n",
      "\u001b[0;31mAttributeError\u001b[0m: 'ExtractedPath' object has no attribute 'path'"
     ]
    }
   ],
   "source": [
    "ir_dataset.get_lags()[1].get_past_datasets()[0].qrels_path()"
   ]
  },
  {
   "cell_type": "code",
   "execution_count": 20,
   "id": "dd8df568",
   "metadata": {},
   "outputs": [
    {
     "ename": "AttributeError",
     "evalue": "qrels_path",
     "output_type": "error",
     "traceback": [
      "\u001b[0;31m---------------------------------------------------------------------------\u001b[0m",
      "\u001b[0;31mAttributeError\u001b[0m                            Traceback (most recent call last)",
      "Cell \u001b[0;32mIn[20], line 1\u001b[0m\n\u001b[0;32m----> 1\u001b[0m \u001b[43mir_dataset\u001b[49m\u001b[38;5;241;43m.\u001b[39;49m\u001b[43mqrels_path\u001b[49m()\n",
      "File \u001b[0;32m/usr/local/lib/python3.10/dist-packages/ir_datasets/datasets/base.py:51\u001b[0m, in \u001b[0;36mDataset.__getattr__\u001b[0;34m(self, attr)\u001b[0m\n\u001b[1;32m     49\u001b[0m     \u001b[38;5;28;01mif\u001b[39;00m \u001b[38;5;28mhasattr\u001b[39m(cons, attr):\n\u001b[1;32m     50\u001b[0m         \u001b[38;5;28;01mreturn\u001b[39;00m \u001b[38;5;28mgetattr\u001b[39m(cons, attr)\n\u001b[0;32m---> 51\u001b[0m \u001b[38;5;28;01mraise\u001b[39;00m \u001b[38;5;167;01mAttributeError\u001b[39;00m(attr)\n",
      "\u001b[0;31mAttributeError\u001b[0m: qrels_path"
     ]
    }
   ],
   "source": [
    "ir_dataset.qrels_path()"
   ]
  },
  {
   "cell_type": "code",
   "execution_count": null,
   "id": "d58fc898",
   "metadata": {},
   "outputs": [],
   "source": []
  }
 ],
 "metadata": {
  "kernelspec": {
   "display_name": "Python 3",
   "language": "python",
   "name": "python3"
  },
  "language_info": {
   "codemirror_mode": {
    "name": "ipython",
    "version": 3
   },
   "file_extension": ".py",
   "mimetype": "text/x-python",
   "name": "python",
   "nbconvert_exporter": "python",
   "pygments_lexer": "ipython3",
   "version": "3.10.12"
  }
 },
 "nbformat": 4,
 "nbformat_minor": 5
}
